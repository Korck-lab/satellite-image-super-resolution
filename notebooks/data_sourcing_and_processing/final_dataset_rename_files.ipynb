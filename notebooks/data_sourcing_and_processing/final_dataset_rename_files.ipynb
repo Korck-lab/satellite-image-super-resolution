{
  "cells": [
    {
      "cell_type": "markdown",
      "metadata": {
        "id": "view-in-github",
        "colab_type": "text"
      },
      "source": [
        "<a href=\"https://colab.research.google.com/github/Korck-lab/satellite-image-super-resolution/blob/master/notebooks/data_sourcing_and_processing/final_dataset_rename_files.ipynb\" target=\"_parent\"><img src=\"https://colab.research.google.com/assets/colab-badge.svg\" alt=\"Open In Colab\"/></a>"
      ]
    },
    {
      "cell_type": "markdown",
      "metadata": {
        "id": "t8aCyMPFntNQ"
      },
      "source": [
        "This notebook is used for renaming the image files sourced with\n",
        "tif_exporter_moving_square, so that each HR-LR image pair has a unique index."
      ]
    },
    {
      "cell_type": "code",
      "source": [
        "!apt install gdal-bin python3-gdal"
      ],
      "metadata": {
        "id": "ykFrASSUpcGr",
        "outputId": "9c6f67df-4784-4f56-f143-7df6383f2af7",
        "colab": {
          "base_uri": "https://localhost:8080/"
        }
      },
      "execution_count": 3,
      "outputs": [
        {
          "output_type": "stream",
          "name": "stdout",
          "text": [
            "Reading package lists... Done\n",
            "Building dependency tree... Done\n",
            "Reading state information... Done\n",
            "The following additional packages will be installed:\n",
            "  python3-numpy\n",
            "Suggested packages:\n",
            "  libgdal-grass python-numpy-doc python3-pytest\n",
            "The following NEW packages will be installed:\n",
            "  gdal-bin python3-gdal python3-numpy\n",
            "0 upgraded, 3 newly installed, 0 to remove and 29 not upgraded.\n",
            "Need to get 5,055 kB of archives.\n",
            "After this operation, 25.1 MB of additional disk space will be used.\n",
            "Get:1 http://archive.ubuntu.com/ubuntu jammy-updates/main amd64 python3-numpy amd64 1:1.21.5-1ubuntu22.04.1 [3,467 kB]\n",
            "Get:2 https://ppa.launchpadcontent.net/ubuntugis/ppa/ubuntu jammy/main amd64 python3-gdal amd64 3.6.4+dfsg-1~jammy0 [1,027 kB]\n",
            "Get:3 https://ppa.launchpadcontent.net/ubuntugis/ppa/ubuntu jammy/main amd64 gdal-bin amd64 3.6.4+dfsg-1~jammy0 [561 kB]\n",
            "Fetched 5,055 kB in 2s (2,709 kB/s)\n",
            "Selecting previously unselected package python3-numpy.\n",
            "(Reading database ... 126209 files and directories currently installed.)\n",
            "Preparing to unpack .../python3-numpy_1%3a1.21.5-1ubuntu22.04.1_amd64.deb ...\n",
            "Unpacking python3-numpy (1:1.21.5-1ubuntu22.04.1) ...\n",
            "Selecting previously unselected package python3-gdal.\n",
            "Preparing to unpack .../python3-gdal_3.6.4+dfsg-1~jammy0_amd64.deb ...\n",
            "Unpacking python3-gdal (3.6.4+dfsg-1~jammy0) ...\n",
            "Selecting previously unselected package gdal-bin.\n",
            "Preparing to unpack .../gdal-bin_3.6.4+dfsg-1~jammy0_amd64.deb ...\n",
            "Unpacking gdal-bin (3.6.4+dfsg-1~jammy0) ...\n",
            "Setting up python3-numpy (1:1.21.5-1ubuntu22.04.1) ...\n",
            "Setting up python3-gdal (3.6.4+dfsg-1~jammy0) ...\n",
            "Setting up gdal-bin (3.6.4+dfsg-1~jammy0) ...\n",
            "Processing triggers for man-db (2.10.2-1) ...\n"
          ]
        }
      ]
    },
    {
      "cell_type": "code",
      "execution_count": 6,
      "metadata": {
        "id": "ia-LQcDis5a8",
        "outputId": "5eef33cf-2dcf-41ec-d10b-60bf9778fece",
        "colab": {
          "base_uri": "https://localhost:8080/"
        }
      },
      "outputs": [
        {
          "output_type": "stream",
          "name": "stdout",
          "text": [
            "Drive already mounted at /content/drive; to attempt to forcibly remount, call drive.mount(\"/content/drive\", force_remount=True).\n"
          ]
        }
      ],
      "source": [
        "# import drive and files in google colaboratory\n",
        "from google.colab import drive\n",
        "from google.colab import files\n",
        "import os\n",
        "import numpy as np\n",
        "path = \"/content/drive\"\n",
        "drive.mount(path)\n",
        "regis = f\"{path}/MyDrive/final_images_regis\"\n",
        "data_train_HR = f\"{regis}/\"#train_HR/\"\n",
        "data_train_LR = f\"{regis}/\"#train_LR/\"\n",
        "data_val_HR = f\"{regis}/\"#val_HR/\"\n",
        "data_val_LR = f\"{regis}/\"#val_LR/\""
      ]
    },
    {
      "cell_type": "code",
      "execution_count": 7,
      "metadata": {
        "id": "U7rLHVwIs7Rr"
      },
      "outputs": [],
      "source": [
        "# rename files in all directories to give each HR-LR image pair a unique index\n",
        "\n",
        "dir_list = [data_train_HR, data_train_LR, data_val_HR, data_val_LR]\n",
        "\n",
        "for d in dir_list:\n",
        "\n",
        "  file_list=np.array(os.listdir(d))\n",
        "\n",
        "  for filename in file_list:\n",
        "    root = (filename.split('_')[0]+'_'+filename.split('_')[1])\n",
        "    root = root.split('-')[0]+'-'+root.split('-')[1]\n",
        "    src = d + filename\n",
        "    dst = d + root\n",
        "    os.rename(src, dst)"
      ]
    },
    {
      "cell_type": "code",
      "source": [
        "len(file_list)"
      ],
      "metadata": {
        "id": "1pxb-ql2vEgc",
        "outputId": "fb772199-1f07-420f-b69f-41f24542be80",
        "colab": {
          "base_uri": "https://localhost:8080/"
        }
      },
      "execution_count": 10,
      "outputs": [
        {
          "output_type": "execute_result",
          "data": {
            "text/plain": [
              "78"
            ]
          },
          "metadata": {},
          "execution_count": 10
        }
      ]
    },
    {
      "cell_type": "code",
      "execution_count": 8,
      "metadata": {
        "id": "HDShtB0OXnOQ",
        "outputId": "59adc79b-e84b-4d76-bf03-cdf9abd08571",
        "colab": {
          "base_uri": "https://localhost:8080/"
        }
      },
      "outputs": [
        {
          "output_type": "execute_result",
          "data": {
            "text/plain": [
              "np.True_"
            ]
          },
          "metadata": {},
          "execution_count": 8
        }
      ],
      "source": [
        "# check datasets match\n",
        "import numpy as np\n",
        "LR_name_root = [x.split('.')[0].rsplit('x', 1)[0] for x in np.sort(os.listdir(data_train_LR))]\n",
        "HR_name_root = [x.split('.')[0] for x in np.sort(os.listdir(data_train_HR))]\n",
        "np.all(HR_name_root == LR_name_root)"
      ]
    },
    {
      "cell_type": "code",
      "execution_count": 9,
      "metadata": {
        "id": "PG7pMZh7YDpp"
      },
      "outputs": [],
      "source": [
        "# in case of mismatch, check which files are missing/different\n",
        "for i in range(len(LR_name_root)):\n",
        "  if HR_name_root[i] != LR_name_root[i]:\n",
        "    print(HR_name_root[i])\n",
        "    print(LR_name_root[i])"
      ]
    }
  ],
  "metadata": {
    "colab": {
      "name": "final_dataset_rename_files.ipynb",
      "provenance": [],
      "include_colab_link": true
    },
    "kernelspec": {
      "display_name": "Python 3",
      "name": "python3"
    },
    "language_info": {
      "name": "python"
    }
  },
  "nbformat": 4,
  "nbformat_minor": 0
}